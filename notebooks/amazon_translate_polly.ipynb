{
 "cells": [
  {
   "attachments": {},
   "cell_type": "markdown",
   "metadata": {},
   "source": [
    "# ¡Polly habla¡ 🦜\n",
    " \n",
    "\n",
    "Un notebook donde podrás, identificar el idioma de un trexto ingresado, traducirlo a otro idioma y repoducir un audio con la pronunciación del idioma destino. \n",
    "\n",
    "![Make Polly Talk\"](../images/make-polly-talk.png)\n",
    "\n",
    "## Este ejemplo vas a usar 3 servicios de AI/ML que puedes emplear como llamadas de API: \n",
    "\n",
    "- [Amazon Comprehend](https://aws.amazon.com/comprehend/): Utiliza el procesamiento del lenguaje natural (NLP) para extraer información sobre el contenido de los documentos. Desarrolla información mediante el reconocimiento de las entidades, las frases clave, el **idioma**, los sentimientos y otros elementos comunes de un documento. Utilice Amazon Comprehend para crear nuevos productos basándose en la comprensión de la estructura de los documentos. Por ejemplo, con Amazon Comprehend puedes buscar menciones de productos en las redes sociales o escanear todo un repositorio de documentos en busca de frases clave. [Más información](https://docs.aws.amazon.com/comprehend/latest/dg/what-is.html)\n",
    "- [Amazon Translate](https://aws.amazon.com/translate/): un servicio de traducción de textos que utiliza tecnologías avanzadas de aprendizaje automático para ofrecer traducciones de alta calidad a pedido. Puede usar Amazon Translate para traducir documentos de texto no estructurados o para crear aplicaciones que funcionen en varios idiomas. ConsulteIdiomas y códigos de idioma admitidospara obtener información sobre los idiomas que admite Amazon Translate. [Más información](https://docs.aws.amazon.com/es_es/translate/latest/dg/what-is.html)\n",
    "- [Amazon Polly](https://aws.amazon.com/polly/) un servicio en la nube que convierte el texto en un segmento hablado muy realista. Puede utilizar Amazon Polly para desarrollar aplicaciones que aumenten la participación y la accesibilidad. Amazon Polly admite varios idiomas e incluye una variedad de voces realistas, de modo que puede crear aplicaciones con función de voz que funcionen en múltiples ubicaciones y utilicen la voz ideal para sus clientes. Con Amazon Polly, solo paga por el texto que sintetice. También puede almacenar en caché y reproducir el discurso generado por Amazon Polly sin coste adicional.[Más información](https://docs.aws.amazon.com/polly/latest/dg/what-is.html)\n",
    "\n",
    "### Requisitos:\n",
    "- [Una cuenta de AWS](https://aws.amazon.com/es/free/)\n",
    "- [Foundational knowledge of Python](https://community.aws/tutorials/build-a-knowledge-base-with-multilingual-q-and-a-gen-ai)\n",
    "\n",
    "### Configuración previa:\n",
    "- [Uso de AWS Command Line Interface CLI](https://docs.aws.amazon.com/es_es/cli/latest/userguide/cli-chap-welcome.html)\n",
    "- [Instalar CLI](https://docs.aws.amazon.com/es_es/cli/latest/userguide/getting-started-install.html)\n",
    "- [Configurar credenciales de AWS para uso local](https://docs.aws.amazon.com/es_es/cli/latest/userguide/cli-configure-files.html)"
   ]
  },
  {
   "attachments": {},
   "cell_type": "markdown",
   "metadata": {},
   "source": [
    "## 🦜 🚀 Empecemos!! "
   ]
  },
  {
   "attachments": {},
   "cell_type": "markdown",
   "metadata": {},
   "source": [
    "### Paso 0: [Instala Boto3](https://boto3.amazonaws.com/v1/documentation/api/latest/guide/quickstart.html#install-boto3) [Más información de Boto3](https://aws.amazon.com/es/sdk-for-python/)\n",
    "Es una librería de python para facilitar la integración con los servicios de AWS (Amazon Web Services)"
   ]
  },
  {
   "cell_type": "code",
   "execution_count": null,
   "metadata": {},
   "outputs": [],
   "source": [
    "### Instala la ultima version de Boto3 via pip: \n",
    "\n",
    "!pip install boto3"
   ]
  },
  {
   "cell_type": "code",
   "execution_count": null,
   "metadata": {},
   "outputs": [],
   "source": [
    "# Boto3 session with credentials taken from environtment\n",
    "import boto3\n",
    "import os\n",
    "\n",
    "AWS_ACCESS_KEY_ID = YOU_AWS_ACCESS_KEY_ID\n",
    "AWS_SECRET_ACCESS_KEY = YOU_AWS_SECRET_ACCESS_KEY\n",
    "AWS_SESSION_TOKEN= YOU_AWS_SESSION_TOKEN\n",
    "REGION_NAME = YOU_REGION\n",
    "\n",
    "my_session = boto3.Session(\n",
    "    aws_access_key_id     = AWS_ACCESS_KEY_ID,\n",
    "    aws_secret_access_key = AWS_SECRET_ACCESS_KEY,\n",
    "    aws_session_token     = AWS_SESSION_TOKEN,\n",
    "    region_name=REGION_NAME\n",
    ")\n"
   ]
  },
  {
   "attachments": {},
   "cell_type": "markdown",
   "metadata": {},
   "source": [
    "### Paso 1: Detecta el lenguage dominante en el texto. \n",
    "\n",
    "> 🚨Nota: Cada servicio tiene un cliente que debes inicializar antes de hacer cada llamada de API. \n",
    "\n",
    "Este paso lo realizamos empleando la llamda de API [DetectDominantLanguage](https://boto3.amazonaws.com/v1/documentation/api/latest/reference/services/comprehend/client/detect_dominant_language.html#detect-dominant-language?) de [Boto3 Comprehend client](https://boto3.amazonaws.com/v1/documentation/api/latest/reference/services/comprehend.html).\n"
   ]
  },
  {
   "cell_type": "code",
   "execution_count": null,
   "metadata": {},
   "outputs": [],
   "source": [
    "comprehend_client = my_session.client('comprehend')\n",
    "\n",
    "comprehend_response = comprehend_client.detect_dominant_language(\n",
    "    Text='hola mundo'\n",
    ")\n",
    "comprehend_response"
   ]
  },
  {
   "cell_type": "code",
   "execution_count": null,
   "metadata": {},
   "outputs": [],
   "source": [
    "code_idioma_dominante = comprehend_response['Languages'][0]['LanguageCode']\n",
    "code_idioma_dominante"
   ]
  },
  {
   "attachments": {},
   "cell_type": "markdown",
   "metadata": {},
   "source": [
    "### Paso 2: Realiza la traducción. \n",
    "\n",
    "\n",
    "Este paso lo realizamos empleando la llamda de API [TranslateText](https://boto3.amazonaws.com/v1/documentation/api/latest/reference/services/comprehend/client/detect_dominant_language.html#detect-dominant-language) de [Boto3 Translate client](https://boto3.amazonaws.com/v1/documentation/api/latest/reference/services/comprehend.html). \n",
    "\n",
    "[supported language codes](https://docs.aws.amazon.com/translate/latest/dg/what-is-languages.html) \n",
    "\n",
    "\n",
    "\n",
    "> 👩🏻‍💻**Truco:** Si en SourceLanguageCode colocas *auto* Amazon Translate empleará a Amazon Comprehend automaticamente para dectectar el lenguaje dominante por ti. "
   ]
  },
  {
   "attachments": {},
   "cell_type": "markdown",
   "metadata": {},
   "source": []
  },
  {
   "cell_type": "code",
   "execution_count": null,
   "metadata": {},
   "outputs": [],
   "source": [
    "translate_client = my_session.client('translate')\n",
    "\n",
    "def TranslateText (text,language):\n",
    "    response = translate_client.translate_text(\n",
    "    Text=text,\n",
    "    SourceLanguageCode=\"auto\",\n",
    "    TargetLanguageCode=language  \n",
    ") \n",
    "    return response"
   ]
  },
  {
   "cell_type": "code",
   "execution_count": null,
   "metadata": {},
   "outputs": [],
   "source": [
    "text = \"Hola mundo\"\n",
    "language = \"en\"\n",
    "translate_response = TranslateText (text,language)\n",
    "translate_response"
   ]
  },
  {
   "attachments": {},
   "cell_type": "markdown",
   "metadata": {},
   "source": [
    "> 👩🏻‍💻 **Tips:** Aprende más Amazon Translate con estos Amazon Translate [Code Samples](https://github.com/aws-samples/document-translation).. [more code samples](https://docs.aws.amazon.com/translate/latest/dg/examples.html)\n"
   ]
  },
  {
   "attachments": {},
   "cell_type": "markdown",
   "metadata": {},
   "source": [
    "### Paso 3: 🦜 ¡Polly habla!. \n",
    "\n",
    "Este paso lo realizamos empleando la llamda de API [SynthesizeSpeech](https://boto3.amazonaws.com/v1/documentation/api/latest/reference/services/polly/client/synthesize_speech.html) de [Boto3 Polly client](https://boto3.amazonaws.com/v1/documentation/api/latest/reference/services/polly.html). \n",
    "\n",
    "\n",
    "[supported language codes](https://docs.aws.amazon.com/translate/latest/dg/what-is-languages.html) \n",
    "[Voice ID](https://docs.aws.amazon.com/polly/latest/dg/voicelist.html) to use for the synthesis\n",
    "\n",
    "\n",
    "\n",
    "> 👩🏻‍💻**Nota:** Tambien puedes emplear invocar las llamdas de API [StartSpeechSynthesisTask](https://boto3.amazonaws.com/v1/documentation/api/latest/reference/services/polly/client/start_speech_synthesis_task.html) para ejecutar un trabajo de texto a audio y guardarlo en un [Amazon S3 Bucket](https://aws.amazon.com/s3/), y [GetSpeechSynthesisTask](https://boto3.amazonaws.com/v1/documentation/api/latest/reference/services/polly/client/get_speech_synthesis_task.html) que extrae el audio."
   ]
  },
  {
   "attachments": {},
   "cell_type": "markdown",
   "metadata": {},
   "source": [
    "Amazon Polly admite [varios idiomas](https://docs.aws.amazon.com/polly/latest/dg/voicelist.html) y voces que permiten sintetizar sonidos de voz muy naturales y parecidos a los humanos. Para generar el mejor audio debemos elegir la voz adecuada para cada idioma, para ello utilizamos los siguientes diccionarios de Python:"
   ]
  },
  {
   "cell_type": "code",
   "execution_count": null,
   "metadata": {},
   "outputs": [],
   "source": [
    "#Haga coincidir el código de idioma de Amazon Translate con la voz correcta de Amazon Polly.\n",
    "\n",
    "def get_target_voice(language):\n",
    "    to_polly_voice = dict( [ ('en', 'Amy'), ('es', 'Conchita'), ('fr', 'Chantal'), ('pt-PT', 'Cristiano'),('it', 'Giorgio'),(\"sr\",\"Carmen\"),(\"zh\",\"Hiujin\") ] )\n",
    "    target_voice = to_polly_voice[language]\n",
    "    return target_voice"
   ]
  },
  {
   "cell_type": "code",
   "execution_count": null,
   "metadata": {},
   "outputs": [],
   "source": [
    "polly_client = my_session.client('polly')\n",
    "\n",
    "def HablaPolly (text,engine,target_voice):\n",
    "    response = polly_client.synthesize_speech(\n",
    "    Engine= engine,\n",
    "    OutputFormat='mp3',\n",
    "    Text= text,\n",
    "    VoiceId = target_voice\n",
    ")\n",
    "    return response"
   ]
  },
  {
   "cell_type": "code",
   "execution_count": null,
   "metadata": {},
   "outputs": [],
   "source": [
    "engine = 'standard' #'standard'|'neural'\n",
    "language_code = \"es\"\n",
    "text = \"Hola Mundo\"\n",
    "target_voice = get_target_voice(language_code)\n",
    "polly_response = HablaPolly(text,engine,target_voice)\n",
    "polly_response"
   ]
  },
  {
   "attachments": {},
   "cell_type": "markdown",
   "metadata": {},
   "source": [
    "> 👩🏻‍💻 **Tips:** Aprende más Amazon Polly con estos [Code Samples](https://docs.aws.amazon.com/polly/latest/dg/sample-code-overall.html)\n"
   ]
  },
  {
   "attachments": {},
   "cell_type": "markdown",
   "metadata": {},
   "source": []
  },
  {
   "cell_type": "code",
   "execution_count": null,
   "metadata": {},
   "outputs": [],
   "source": [
    "## Convertir AudioStream en mp3\n",
    "def audiostream_to_mp3(file_namme,polly_response):\n",
    "    file = open(file_namme, 'wb')\n",
    "    file.write(polly_response['AudioStream'].read())\n",
    "    file.close()"
   ]
  },
  {
   "attachments": {},
   "cell_type": "markdown",
   "metadata": {},
   "source": [
    "### APP para traducir texto y reporducir el audio con la traducción adecuada. "
   ]
  },
  {
   "attachments": {},
   "cell_type": "markdown",
   "metadata": {},
   "source": []
  },
  {
   "cell_type": "code",
   "execution_count": null,
   "metadata": {},
   "outputs": [],
   "source": [
    "texto = \"Hola a todos por aca\"\n",
    "file_namme = \"speech_2.mp3\"\n",
    "language_code = \"en\"\n",
    "text_out = TranslateText (texto,language_code)['TranslatedText']\n",
    "target_voice = get_target_voice(language_code)\n",
    "polly_response = HablaPolly(text_out,engine,target_voice)\n",
    "audiostream_to_mp3(file_namme,polly_response)"
   ]
  },
  {
   "attachments": {},
   "cell_type": "markdown",
   "metadata": {},
   "source": [
    "> Aprende más de Amazon Translate [Code Samples](https://github.com/aws-samples/document-translation).. [more code samples](https://docs.aws.amazon.com/translate/latest/dg/examples.html)"
   ]
  },
  {
   "attachments": {},
   "cell_type": "markdown",
   "metadata": {},
   "source": [
    "## ¡Gracias!\n",
    "\n",
    "Te dejo mis redes: \n",
    "🇻🇪🇨🇱 [Dev.to](https://dev.to/elizabethfuentes12) [Linkedin](https://www.linkedin.com/in/lizfue/) [GitHub](https://github.com/elizabethfuentes12/) [Twitter](https://twitter.com/elizabethfue12) [Instagram](https://www.instagram.com/elifue.tech) [Youtube](https://www.youtube.com/channel/UCr0Gnc-t30m4xyrvsQpNp2Q)\n",
    "[linktr](https://linktr.ee/elizabethfuentesleone)"
   ]
  }
 ],
 "metadata": {
  "kernelspec": {
   "display_name": "Python 3",
   "language": "python",
   "name": "python3"
  },
  "language_info": {
   "codemirror_mode": {
    "name": "ipython",
    "version": 3
   },
   "file_extension": ".py",
   "mimetype": "text/x-python",
   "name": "python",
   "nbconvert_exporter": "python",
   "pygments_lexer": "ipython3",
   "version": "3.9.6"
  },
  "orig_nbformat": 4
 },
 "nbformat": 4,
 "nbformat_minor": 2
}
