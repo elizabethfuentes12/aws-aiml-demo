{
 "cells": [
  {
   "cell_type": "code",
   "execution_count": null,
   "metadata": {},
   "outputs": [],
   "source": [
    "import boto3\n",
    "import json\n"
   ]
  },
  {
   "cell_type": "code",
   "execution_count": null,
   "metadata": {},
   "outputs": [],
   "source": [
    "bedrock_runtime = boto3.client(\n",
    "    service_name='bedrock-runtime', \n",
    "    region_name='us-east-1'\n",
    ")"
   ]
  },
  {
   "cell_type": "code",
   "execution_count": null,
   "metadata": {},
   "outputs": [],
   "source": [
    "prompt = \"\"\"Hemos recibido algún texto sin ningún contexto.\n",
    "Necesitamos etiquetar el texto con un título que permita identificar rápidamente de que trata el texto. \n",
    "\n",
    "Acá el texto entre estas <text></text> XML etiquetas:\n",
    "\n",
    "<text>Hoy fui a la playa y vi una ballena. Comi un helado y nade en el océano.\n",
    "</text>\n",
    "\n",
    "\"\"\".encode(\"unicode_escape\").decode(\"utf-8\")"
   ]
  },
  {
   "cell_type": "code",
   "execution_count": null,
   "metadata": {},
   "outputs": [],
   "source": [
    "\n",
    "body = {\"prompt\": f'Human:{prompt}\\n\\nAssistant:',\n",
    "          \"max_tokens_to_sample\":300,\n",
    "          \"temperature\":1,\n",
    "          \"top_k\":250,\n",
    "          \"top_p\":0.999,\n",
    "          \"stop_sequences\":[\"Human:\"]\n",
    "          }\n",
    "kwargs = {\n",
    "  \"modelId\": \"anthropic.claude-v2\",\n",
    "  \"contentType\": \"application/json\",\n",
    "  \"accept\": \"*/*\",\n",
    "  \"body\": json.dumps(body)}"
   ]
  },
  {
   "cell_type": "code",
   "execution_count": null,
   "metadata": {},
   "outputs": [],
   "source": [
    "response = bedrock_runtime.invoke_model(**kwargs)\n",
    "response"
   ]
  },
  {
   "cell_type": "code",
   "execution_count": null,
   "metadata": {},
   "outputs": [],
   "source": [
    "response_body = json.loads(response.get(\"body\").read())\n",
    "response_body"
   ]
  },
  {
   "cell_type": "code",
   "execution_count": null,
   "metadata": {},
   "outputs": [],
   "source": [
    "completetion = response_body.get(\"completion\")\n",
    "completetion"
   ]
  },
  {
   "cell_type": "code",
   "execution_count": null,
   "metadata": {},
   "outputs": [],
   "source": []
  }
 ],
 "metadata": {
  "kernelspec": {
   "display_name": "Python 3",
   "language": "python",
   "name": "python3"
  },
  "language_info": {
   "codemirror_mode": {
    "name": "ipython",
    "version": 3
   },
   "file_extension": ".py",
   "mimetype": "text/x-python",
   "name": "python",
   "nbconvert_exporter": "python",
   "pygments_lexer": "ipython3",
   "version": "3.9.6"
  },
  "orig_nbformat": 4
 },
 "nbformat": 4,
 "nbformat_minor": 2
}
