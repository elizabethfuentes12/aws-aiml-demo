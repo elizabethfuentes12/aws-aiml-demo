{
 "cells": [
  {
   "cell_type": "code",
   "execution_count": null,
   "metadata": {},
   "outputs": [],
   "source": [
    "import boto3\n",
    "import os\n",
    "import json\n",
    "import boto3\n"
   ]
  },
  {
   "cell_type": "code",
   "execution_count": null,
   "metadata": {},
   "outputs": [],
   "source": [
    "bedrock_runtime = boto3.client(\n",
    "    service_name='bedrock-runtime', \n",
    "    region_name='us-east-1'\n",
    ")"
   ]
  },
  {
   "cell_type": "code",
   "execution_count": null,
   "metadata": {},
   "outputs": [],
   "source": [
    "prompt = \"Escribe un artículo sobre el planeta ficticio Unicorland\""
   ]
  },
  {
   "cell_type": "code",
   "execution_count": null,
   "metadata": {},
   "outputs": [],
   "source": [
    "body = {\"prompt\": f'Human:{prompt}\\n\\nAssistant:',\n",
    "          \"max_tokens_to_sample\":300,\n",
    "          \"temperature\":1,\n",
    "          \"top_k\":250,\n",
    "          \"top_p\":0.999,\n",
    "          \"stop_sequences\":[\"Human:\"]\n",
    "          }\n",
    "kwargs = {\n",
    "  \"modelId\": \"anthropic.claude-v2\",\n",
    "  \"contentType\": \"application/json\",\n",
    "  \"accept\": \"*/*\",\n",
    "  \"body\": json.dumps(body)}"
   ]
  },
  {
   "cell_type": "code",
   "execution_count": null,
   "metadata": {},
   "outputs": [],
   "source": [
    "response = bedrock_runtime.invoke_model_with_response_stream(**kwargs)\n",
    "\n",
    "stream = response.get(\"body\")\n",
    "\n",
    "if stream:\n",
    "    for event in stream:\n",
    "        chunk = event.get(\"chunk\")\n",
    "        if chunk:\n",
    "            print(json.loads(chunk.get(\"bytes\")).get(\"completion\"),end=\"\")"
   ]
  },
  {
   "cell_type": "code",
   "execution_count": null,
   "metadata": {},
   "outputs": [],
   "source": []
  }
 ],
 "metadata": {
  "kernelspec": {
   "display_name": "Python 3",
   "language": "python",
   "name": "python3"
  },
  "language_info": {
   "codemirror_mode": {
    "name": "ipython",
    "version": 3
   },
   "file_extension": ".py",
   "mimetype": "text/x-python",
   "name": "python",
   "nbconvert_exporter": "python",
   "pygments_lexer": "ipython3",
   "version": "3.9.6"
  },
  "orig_nbformat": 4
 },
 "nbformat": 4,
 "nbformat_minor": 2
}
