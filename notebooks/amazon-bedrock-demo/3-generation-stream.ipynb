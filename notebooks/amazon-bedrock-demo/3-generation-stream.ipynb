{
 "cells": [
  {
   "cell_type": "code",
   "execution_count": 2,
   "metadata": {},
   "outputs": [],
   "source": [
    "import boto3\n",
    "import os\n",
    "import json\n",
    "import boto3\n"
   ]
  },
  {
   "cell_type": "code",
   "execution_count": 8,
   "metadata": {},
   "outputs": [],
   "source": [
    "bedrock_runtime = boto3.client(\n",
    "    service_name='bedrock-runtime', \n",
    "    region_name='us-east-1'\n",
    ")"
   ]
  },
  {
   "cell_type": "code",
   "execution_count": 9,
   "metadata": {},
   "outputs": [],
   "source": [
    "prompt = \"Escribe un artículo sobre el planeta ficticio Unicorland\""
   ]
  },
  {
   "cell_type": "code",
   "execution_count": 10,
   "metadata": {},
   "outputs": [],
   "source": [
    "kwargs = {\n",
    "  \"modelId\": \"anthropic.claude-v2\",\n",
    "  \"contentType\": \"application/json\",\n",
    "  \"accept\": \"*/*\",\n",
    "  \"body\": \"{\\\"prompt\\\":\\\"Human: \\\\n\\\\nHuman: \"+ prompt +\"\\\\n\\\\nAssistant:\\\",\\\"max_tokens_to_sample\\\":300,\\\"temperature\\\":1,\\\"top_k\\\":250,\\\"top_p\\\":0.999,\\\"stop_sequences\\\":[\\\"\\\\n\\\\nHuman:\\\"],\\\"anthropic_version\\\":\\\"bedrock-2023-05-31\\\"}\"\n",
    "}"
   ]
  },
  {
   "cell_type": "code",
   "execution_count": 11,
   "metadata": {},
   "outputs": [
    {
     "name": "stdout",
     "output_type": "stream",
     "text": [
      " Aquí está un borrador de artículo sobre el planeta ficticio Unicorland:\n",
      "\n",
      "Unicorland: El Mágico Planeta de los Unicornios\n",
      "\n",
      "Bienvenidos a Unicorland, un exoplaneta ubicado en la galaxia de Andrómeda que es el hogar de una raza avanzada de unicornios. Este peculiar planeta tiene un ambiente similar a la Tierra, con extensas praderas, bosques exuberantes y montañas majestuosas. Pero lo que realmente distingue a Unicorland son sus habitantes: los unicornios.\n",
      "\n",
      "Estas magníficas criaturas tienen el cuerpo de un caballo blanco, con una espiral dorada en lugar de melena y el ya clásico cuerno en espiral que sobresale de su frente. Los unicornios de Unicorland pueden volar gracias a sus grandes y poderosas alas. Tienen la habilidad de lanzar rayos mágicos de sus cuernos y poseen una inteligencia similar o superior a la de los humanos. \n",
      "\n",
      "La sociedad unicornia está organizada en ciudades flotantes sobre las nubes. Los unicornios viven en harmonía y dedican su tiempo al estudio de"
     ]
    }
   ],
   "source": [
    "response = bedrock_runtime.invoke_model_with_response_stream(**kwargs)\n",
    "\n",
    "stream = response.get(\"body\")\n",
    "\n",
    "if stream:\n",
    "    for event in stream:\n",
    "        chunk = event.get(\"chunk\")\n",
    "        if chunk:\n",
    "            print(json.loads(chunk.get(\"bytes\")).get(\"completion\"),end=\"\")"
   ]
  },
  {
   "cell_type": "code",
   "execution_count": null,
   "metadata": {},
   "outputs": [],
   "source": []
  }
 ],
 "metadata": {
  "kernelspec": {
   "display_name": "Python 3",
   "language": "python",
   "name": "python3"
  },
  "language_info": {
   "codemirror_mode": {
    "name": "ipython",
    "version": 3
   },
   "file_extension": ".py",
   "mimetype": "text/x-python",
   "name": "python",
   "nbconvert_exporter": "python",
   "pygments_lexer": "ipython3",
   "version": "3.9.6"
  },
  "orig_nbformat": 4
 },
 "nbformat": 4,
 "nbformat_minor": 2
}
