{
 "cells": [
  {
   "attachments": {},
   "cell_type": "markdown",
   "metadata": {},
   "source": [
    "# Moderador de contenidos de video ⏯️ 🔫.\n",
    "\n",
    "En este notebook aprenderas a crear un moderador de contenido de video\n",
    "\n",
    "\n",
    "## Este ejemplo vas a usar 2servicios de AI/ML que puedes emplear como llamadas de API: \n",
    "\n",
    "- [Amazon Rekognition](https://aws.amazon.com/es/rekognition/): \n",
    "Amazon Rekognition facilita la adición de análisis de imágenes y vídeos a sus aplicaciones. Solo tiene que proporcionar una imagen o un vídeo a la API de Amazon Rekognition y el servicio podrá:\n",
    "\n",
    "Identifique las etiquetas (objetos, conceptos, personas, escenas y actividades) y el texto\n",
    "\n",
    "Detectar contenido inapropiado\n",
    "\n",
    "Proporcione capacidades de análisis facial, comparación de rostros y búsqueda de rostros de alta precisión\n",
    "\n",
    "[Más información](https://docs.aws.amazon.com/es_es/rekognition/latest/dg/what-is.html)\n",
    "\n",
    "\n",
    "\n",
    "\n",
    "### Requisitos:\n",
    "- [Una cuenta de AWS](https://aws.amazon.com/es/free/)\n",
    "- [Foundational knowledge of Python](https://community.aws/tutorials/build-a-knowledge-base-with-multilingual-q-and-a-gen-ai)\n",
    "\n",
    "### Configuración previa:\n",
    "- [Uso de AWS Command Line Interface CLI](https://docs.aws.amazon.com/es_es/cli/latest/userguide/cli-chap-welcome.html)\n",
    "- [Instalar CLI](https://docs.aws.amazon.com/es_es/cli/latest/userguide/getting-started-install.html)\n",
    "- [Configurar credenciales de AWS para uso local](https://docs.aws.amazon.com/es_es/cli/latest/userguide/cli-configure-files.html)\n"
   ]
  },
  {
   "attachments": {},
   "cell_type": "markdown",
   "metadata": {},
   "source": [
    "## ⏯️ 🍿 Empecemos!! "
   ]
  },
  {
   "attachments": {},
   "cell_type": "markdown",
   "metadata": {},
   "source": [
    "### Paso 0: [Instala Boto3](https://boto3.amazonaws.com/v1/documentation/api/latest/guide/quickstart.html#install-boto3) [Más información de Boto3](https://aws.amazon.com/es/sdk-for-python/)\n",
    "Es una librería de python para facilitar la integración con los servicios de AWS (Amazon Web Services)"
   ]
  },
  {
   "cell_type": "code",
   "execution_count": null,
   "metadata": {},
   "outputs": [],
   "source": [
    "### Instala la ultima version de Boto3 via pip: \n",
    "\n",
    "!pip install boto3"
   ]
  },
  {
   "cell_type": "code",
   "execution_count": null,
   "metadata": {},
   "outputs": [],
   "source": [
    "# Boto3 session with credentials taken from environtment\n",
    "import boto3\n",
    "import os\n",
    "\n",
    "AWS_ACCESS_KEY_ID = YOU_AWS_ACCESS_KEY_ID\n",
    "AWS_SECRET_ACCESS_KEY = YOU_AWS_SECRET_ACCESS_KEY\n",
    "AWS_SESSION_TOKEN= YOU_AWS_SESSION_TOKEN\n",
    "REGION_NAME = YOU_REGION\n",
    "\n",
    "my_session = boto3.Session(\n",
    "    aws_access_key_id     = AWS_ACCESS_KEY_ID,\n",
    "    aws_secret_access_key = AWS_SECRET_ACCESS_KEY,\n",
    "    aws_session_token     = AWS_SESSION_TOKEN,\n",
    "    region_name=REGION_NAME\n",
    ")\n"
   ]
  },
  {
   "attachments": {},
   "cell_type": "markdown",
   "metadata": {},
   "source": [
    "### Paso 1: API para moderación de Video. \n",
    "\n",
    "> 🚨Nota: Cada servicio tiene un cliente que debes inicializar antes de hacer cada llamada de API. \n",
    "\n",
    "Este paso lo realizamos empleando la llamda de API [start_content_moderation](https://boto3.amazonaws.com/v1/documentation/api/1.9.42/reference/services/rekognition.html#Rekognition.Client.start_content_moderation) de [Boto3 Rekognition client](https://boto3.amazonaws.com/v1/documentation/api/1.9.42/reference/services/rekognition.html#client)."
   ]
  },
  {
   "attachments": {},
   "cell_type": "markdown",
   "metadata": {},
   "source": [
    "### Amazon transcribe toma el video desde un bucket de [Amazon S3](https://docs.aws.amazon.com/s3/index.html), por lo que debes crearlo primero y luego subir el video. [Sigue los pasos decomo crear un Bucket de S3 aca](https://docs.aws.amazon.com/es_es/AmazonS3/latest/userguide/creating-bucket.html)"
   ]
  },
  {
   "cell_type": "code",
   "execution_count": null,
   "metadata": {},
   "outputs": [],
   "source": [
    "rekognition_client = my_session.client('rekognition')\n",
    "\n",
    "def crea_subitulos(s3bucket,filename):\n",
    "\n",
    "    startModerationLabelDetection = rekognition_client.start_content_moderation(\n",
    "                Video={'S3Object': {\n",
    "                        'Bucket': s3bucket, \n",
    "                        'Name': filename}\n",
    "                    })\n",
    "\n",
    "    moderationJobId = startModerationLabelDetection['JobId']\n",
    "    print(\"Job Id: {0}\".format(moderationJobId))\n",
    "    return moderationJobId"
   ]
  },
  {
   "attachments": {},
   "cell_type": "markdown",
   "metadata": {},
   "source": [
    "### Paso 2: Obtiene la moderación del contenido. \n",
    "Antes de iniciar este paso debes esperar que la moderación de contenido este listos, esto dependera de la duración del video. \n",
    "\n",
    "Una vez terminada puedes revisar el resultado con la siguiente API [get_content_moderation](https://boto3.amazonaws.com/v1/documentation/api/1.9.42/reference/services/rekognition.html#Rekognition.Client.get_content_moderation). \n"
   ]
  },
  {
   "cell_type": "code",
   "execution_count": null,
   "metadata": {},
   "outputs": [],
   "source": [
    "def obtiene_moderacion(moderationJobId):\n",
    "    getContentModeration = rekognition_client.get_content_moderation(\n",
    "                JobId=moderationJobId,\n",
    "                SortBy='TIMESTAMP')\n",
    "    return getContentModeration"
   ]
  },
  {
   "cell_type": "code",
   "execution_count": null,
   "metadata": {},
   "outputs": [],
   "source": [
    "s3bucket = \"you_bucket_name\"\n",
    "filename = \"Duro_de_matar_1min.mp4\""
   ]
  },
  {
   "cell_type": "code",
   "execution_count": null,
   "metadata": {},
   "outputs": [],
   "source": [
    "moderationJobId = crea_subitulos(s3bucket,filename)\n",
    "getContentModeration = obtiene_moderacion(moderationJobId)\n",
    "getContentModeration"
   ]
  },
  {
   "cell_type": "code",
   "execution_count": null,
   "metadata": {},
   "outputs": [],
   "source": [
    "getContentModeration['ModerationLabels']"
   ]
  },
  {
   "cell_type": "code",
   "execution_count": null,
   "metadata": {},
   "outputs": [],
   "source": [
    "#Guarda la moderación en un json\n",
    "filename = filename.replace(\".mp4\", \".json\")\n",
    "with open('data.json', 'w') as file:\n",
    "    json.dump(getContentModeration[\"ModerationLabels\"], file, indent=4)\n",
    "    \n"
   ]
  },
  {
   "attachments": {},
   "cell_type": "markdown",
   "metadata": {},
   "source": [
    "> Aca puedes aprender más sobre Amazon Rekognition [Code Samples](https://github.com/aws-samples/amazon-rekognition-code-samples)"
   ]
  }
 ],
 "metadata": {
  "kernelspec": {
   "display_name": "Python 3",
   "language": "python",
   "name": "python3"
  },
  "language_info": {
   "codemirror_mode": {
    "name": "ipython",
    "version": 3
   },
   "file_extension": ".py",
   "mimetype": "text/x-python",
   "name": "python",
   "nbconvert_exporter": "python",
   "pygments_lexer": "ipython3",
   "version": "3.9.6"
  },
  "orig_nbformat": 4
 },
 "nbformat": 4,
 "nbformat_minor": 2
}
