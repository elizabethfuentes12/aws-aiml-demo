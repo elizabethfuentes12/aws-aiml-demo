{
 "cells": [
  {
   "attachments": {},
   "cell_type": "markdown",
   "metadata": {},
   "source": [
    "# Detectar entidades y sentimientos en un documento 🔎 📄.\n",
    "\n",
    "En este notebook podrás extraer texto de una imagen, identificar los sentimientos  y además las identidades mencionadas en el texto.\n",
    "\n",
    "![Detecting entities and sentiment from a document\"](../images/detecting-entities-and-sentiment.png)\n",
    "\n",
    "### Este ejemplo vas a usar 2 servicios de AI/ML que puedes emplear como llamadas de API:  \n",
    "\n",
    "### [Amazon Comprehend](https://aws.amazon.com/comprehend/): \n",
    "Utiliza el procesamiento del lenguaje natural (NLP) para extraer información sobre el contenido de los documentos. Desarrolla información mediante el reconocimiento de las entidades, las frases clave, el **idioma**, los sentimientos y otros elementos comunes de un documento. Utilice Amazon Comprehend para crear nuevos productos basándose en la comprensión de la estructura de los documentos. Por ejemplo, con Amazon Comprehend puedes buscar menciones de productos en las redes sociales o escanear todo un repositorio de documentos en busca de frases clave. [Más información](https://docs.aws.amazon.com/comprehend/latest/dg/what-is.html)\n",
    "\n",
    "\n",
    "### [Amazon Textract](https://docs.aws.amazon.com/textract/latest/dg/what-is.html): \n",
    "Detección y el análisis del texto de los documentos a sus aplicaciones. \n",
    "Con Amazon Textract, puede hacer lo siguiente:\n",
    "\n",
    "- Detecte texto mecanografiado y manuscrito en una variedad de documentos, incluidos informes financieros, registros médicos y formularios de impuestos.\n",
    "- Extraiga texto, formularios y tablas de documentos con datos estructurados mediante la API de análisis de documentos de Amazon Textract.\n",
    "- Especifique y extraiga información de los documentos mediante la función de consultas de la API Amazon Textract Analyze Document.\n",
    "- Procese facturas y recibos con la API AnalyzeExpense.\n",
    "- Procese documentos de identificación, como licencias de conducir y pasaportes emitidos por el gobierno de EE. UU., mediante la API AnalyzeID.\n",
    "\n",
    "Cargue y procese paquetes de préstamos hipotecarios mediante el direccionamiento automático de las páginas del documento a las operaciones de análisis de Amazon Textract correspondientes mediante el flujo de trabajo Analyze Lending. Puede recuperar los resultados del análisis de cada página del documento o puede recuperar los resultados resumidos de un conjunto de páginas del documento.\n",
    "\n",
    "### Requisitos:\n",
    "- [Una cuenta de AWS](https://aws.amazon.com/es/free/)\n",
    "- [Foundational knowledge of Python](https://community.aws/tutorials/build-a-knowledge-base-with-multilingual-q-and-a-gen-ai)\n",
    "\n",
    "### Configuración previa:\n",
    "- [Uso de AWS Command Line Interface CLI](https://docs.aws.amazon.com/es_es/cli/latest/userguide/cli-chap-welcome.html)\n",
    "- [Instalar CLI](https://docs.aws.amazon.com/es_es/cli/latest/userguide/getting-started-install.html)\n",
    "- [Configurar credenciales de AWS para uso local](https://docs.aws.amazon.com/es_es/cli/latest/userguide/cli-configure-files.html)"
   ]
  },
  {
   "attachments": {},
   "cell_type": "markdown",
   "metadata": {},
   "source": [
    "## Empecemos!! 🔎 📄."
   ]
  },
  {
   "attachments": {},
   "cell_type": "markdown",
   "metadata": {},
   "source": [
    "### Paso 0: [Instala Boto3](https://boto3.amazonaws.com/v1/documentation/api/latest/guide/quickstart.html#install-boto3) [Más información de Boto3](https://aws.amazon.com/es/sdk-for-python/)\n",
    "Es una librería de python para facilitar la integración con los servicios de AWS (Amazon Web Services)"
   ]
  },
  {
   "attachments": {},
   "cell_type": "markdown",
   "metadata": {},
   "source": [
    "### Instala la ultima version de Boto3 via pip: \n",
    "\n",
    "!pip install boto3"
   ]
  },
  {
   "cell_type": "code",
   "execution_count": null,
   "metadata": {},
   "outputs": [],
   "source": [
    "# Boto3 session with credentials taken from environtment\n",
    "import boto3\n",
    "import os"
   ]
  },
  {
   "attachments": {},
   "cell_type": "markdown",
   "metadata": {},
   "source": [
    "### Paso 1: Detecta el texto en el documento\n",
    "\n",
    "> 🚨Nota: Cada servicio tiene un cliente que debes inicializar antes de hacer cada llamada de API. \n",
    "\n",
    "Este paso lo realizamos empleando la llamda de API [Detect Document Text API](https://boto3.amazonaws.com/v1/documentation/api/latest/reference/services/textract/client/detect_document_text.html) de [Boto3 Textract client](https://boto3.amazonaws.com/v1/documentation/api/latest/reference/services/textract.html)."
   ]
  },
  {
   "cell_type": "code",
   "execution_count": null,
   "metadata": {},
   "outputs": [],
   "source": [
    "# Amazon Textract client\n",
    "textract_client = boto3.client('textract')\n",
    "\n",
    "def extraer_texto(document):\n",
    "    response = textract_client.detect_document_text(\n",
    "            Document={\n",
    "                'Bytes': document.read(),\n",
    "            }\n",
    "        )\n",
    "    return response"
   ]
  },
  {
   "cell_type": "code",
   "execution_count": null,
   "metadata": {},
   "outputs": [],
   "source": [
    "# Document\n",
    "documentName = \"simple-document-image.jpg\"\n",
    "with open(documentName, \"rb\") as document:\n",
    "    response = extraer_texto(document)\n",
    "response"
   ]
  },
  {
   "cell_type": "code",
   "execution_count": null,
   "metadata": {},
   "outputs": [],
   "source": [
    "# Para codificar el texto\n",
    "print(\"El texto es:\\n========\")\n",
    "text = \"\"\n",
    "for item in response[\"Blocks\"]:\n",
    "    if item[\"BlockType\"] == \"LINE\":\n",
    "        print ('\\033[94m' +  item[\"Text\"] + '\\033[0m')\n",
    "        text = text + \" \" + item[\"Text\"]"
   ]
  },
  {
   "attachments": {},
   "cell_type": "markdown",
   "metadata": {},
   "source": [
    "### Paso 2: Detecta los sentimientos en el documento\n",
    "\n",
    "\n",
    "Este paso lo realizamos empleando la llamda de API [Detect Sentiment API](https://boto3.amazonaws.com/v1/documentation/api/latest/reference/services/comprehend/client/detect_sentiment.html) de [Boto3 Comprehend client](https://boto3.amazonaws.com/v1/documentation/api/latest/reference/services/comprehend.html)."
   ]
  },
  {
   "cell_type": "code",
   "execution_count": null,
   "metadata": {},
   "outputs": [],
   "source": [
    "# Amazon Comprehend client\n",
    "comprehend_client = boto3.client('comprehend')\n",
    "\n",
    "sentiment =  comprehend_client.detect_sentiment(LanguageCode=\"en\", Text=text)\n",
    "\n",
    "print (\"\\nSentimentos\\n========\\n{}\".format(sentiment.get('Sentiment')))\n",
    "\n",
    "\n"
   ]
  },
  {
   "attachments": {},
   "cell_type": "markdown",
   "metadata": {},
   "source": [
    "### Paso 3: Detecta los entidades en el documento\n",
    "\n",
    "\n",
    "Este paso lo realizamos empleando la llamda de API [Detect entities API](https://boto3.amazonaws.com/v1/documentation/api/latest/reference/services/comprehend/client/detect_entities.html) de [Boto3 Comprehend client](https://boto3.amazonaws.com/v1/documentation/api/latest/reference/services/comprehend.html)."
   ]
  },
  {
   "cell_type": "code",
   "execution_count": null,
   "metadata": {},
   "outputs": [],
   "source": [
    "entities =  comprehend_client.detect_entities(LanguageCode=\"en\", Text=text)\n",
    "\n",
    "print(\"\\nEntidades\\n========\")\n",
    "\n",
    "for entity in entities[\"Entities\"]:\n",
    "    print (\"{}\\t=>\\t{}\".format(entity[\"Type\"], entity[\"Text\"]))"
   ]
  },
  {
   "attachments": {},
   "cell_type": "markdown",
   "metadata": {},
   "source": [
    "> 👩🏻‍💻 **Tips:** Aprende mas de Amazon Transcribe y Amazon Comprehend en estos [Code Samples](https://github.com/aws-samples/amazon-transcribe-comprehend-podcast)"
   ]
  },
  {
   "attachments": {},
   "cell_type": "markdown",
   "metadata": {},
   "source": []
  },
  {
   "attachments": {},
   "cell_type": "markdown",
   "metadata": {},
   "source": [
    "## ¡Gracias!\n",
    "\n",
    "## 🚨¿Te gusto? 👩🏻‍💻 ¿Tienes comentarios?🎤 cuéntamelo todo --> [acá](https://www.pulse.aws/survey/WC6WAFGM)\n",
    "\n",
    "Te dejo mis redes: \n",
    "🇻🇪🇨🇱 [Dev.to](https://dev.to/elizabethfuentes12) [Linkedin](https://www.linkedin.com/in/lizfue/) [GitHub](https://github.com/elizabethfuentes12/) [Twitter](https://twitter.com/elizabethfue12) [Instagram](https://www.instagram.com/elifue.tech) [Youtube](https://www.youtube.com/channel/UCr0Gnc-t30m4xyrvsQpNp2Q)\n",
    "[linktr](https://linktr.ee/elizabethfuentesleone)"
   ]
  }
 ],
 "metadata": {
  "kernelspec": {
   "display_name": "Python 3",
   "language": "python",
   "name": "python3"
  },
  "language_info": {
   "codemirror_mode": {
    "name": "ipython",
    "version": 3
   },
   "file_extension": ".py",
   "mimetype": "text/x-python",
   "name": "python",
   "nbconvert_exporter": "python",
   "pygments_lexer": "ipython3",
   "version": "3.9.6"
  },
  "orig_nbformat": 4
 },
 "nbformat": 4,
 "nbformat_minor": 2
}
