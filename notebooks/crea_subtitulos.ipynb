{
 "cells": [
  {
   "attachments": {},
   "cell_type": "markdown",
   "metadata": {},
   "source": [
    "# Genera subtítulos a un video y traducelos a otro idioma ⏯️ 🍿.\n",
    "\n",
    "En este notebook aprenderás a extraer subitulos de un video y a generar unos nuevos en otro idioma. \n",
    "\n",
    "\n",
    "## Este ejemplo vas a usar 2servicios de AI/ML que puedes emplear como llamadas de API: \n",
    "\n",
    "- [Amazon Transcribe](https://aws.amazon.com/es/transcribe/): un servicio de reconocimiento automático de voz que utiliza modelos de aprendizaje automático para convertir audio en texto. Puede usarlo Amazon Transcribe como un servicio de transcripción independiente o para añadir speech-to-text capacidades a cualquier aplicación. . [Más información](https://docs.aws.amazon.com/es_es/transcribe/latest/dg/what-is.html)\n",
    "\n",
    "- [Amazon Translate](https://aws.amazon.com/translate/): un servicio de traducción de textos que utiliza tecnologías avanzadas de aprendizaje automático para ofrecer traducciones de alta calidad a pedido. Puede usar Amazon Translate para traducir documentos de texto no estructurados o para crear aplicaciones que funcionen en varios idiomas. ConsulteIdiomas y códigos de idioma admitidospara obtener información sobre los idiomas que admite Amazon Translate. [Más información](https://docs.aws.amazon.com/es_es/translate/latest/dg/what-is.html)\n",
    "\n",
    "### Requisitos:\n",
    "- [Una cuenta de AWS](https://aws.amazon.com/es/free/)\n",
    "- [Foundational knowledge of Python](https://community.aws/tutorials/build-a-knowledge-base-with-multilingual-q-and-a-gen-ai)\n",
    "\n",
    "### Configuración previa:\n",
    "- [Uso de AWS Command Line Interface CLI](https://docs.aws.amazon.com/es_es/cli/latest/userguide/cli-chap-welcome.html)\n",
    "- [Instalar CLI](https://docs.aws.amazon.com/es_es/cli/latest/userguide/getting-started-install.html)\n",
    "- [Configurar credenciales de AWS para uso local](https://docs.aws.amazon.com/es_es/cli/latest/userguide/cli-configure-files.html)\n"
   ]
  },
  {
   "attachments": {},
   "cell_type": "markdown",
   "metadata": {},
   "source": [
    "## ⏯️ 🍿 Empecemos!! "
   ]
  },
  {
   "attachments": {},
   "cell_type": "markdown",
   "metadata": {},
   "source": [
    "### Paso 0: [Instala Boto3](https://boto3.amazonaws.com/v1/documentation/api/latest/guide/quickstart.html#install-boto3) [Más información de Boto3](https://aws.amazon.com/es/sdk-for-python/)\n",
    "Es una librería de python para facilitar la integración con los servicios de AWS (Amazon Web Services)"
   ]
  },
  {
   "cell_type": "code",
   "execution_count": null,
   "metadata": {},
   "outputs": [],
   "source": [
    "### Instala la ultima version de Boto3 via pip: \n",
    "\n",
    "!pip install boto3"
   ]
  },
  {
   "cell_type": "code",
   "execution_count": 14,
   "metadata": {},
   "outputs": [],
   "source": [
    "# Boto3 session with credentials taken from environtment\n",
    "import boto3\n",
    "import os\n",
    "\n",
    "AWS_ACCESS_KEY_ID = YOU_AWS_ACCESS_KEY_ID\n",
    "AWS_SECRET_ACCESS_KEY = YOU_AWS_SECRET_ACCESS_KEY\n",
    "AWS_SESSION_TOKEN= YOU_AWS_SESSION_TOKEN\n",
    "REGION_NAME = YOU_REGION\n",
    "\n",
    "my_session = boto3.Session(\n",
    "    aws_access_key_id     = AWS_ACCESS_KEY_ID,\n",
    "    aws_secret_access_key = AWS_SECRET_ACCESS_KEY,\n",
    "    aws_session_token     = AWS_SESSION_TOKEN,\n",
    "    region_name=REGION_NAME\n",
    ")\n"
   ]
  },
  {
   "attachments": {},
   "cell_type": "markdown",
   "metadata": {},
   "source": [
    "### Paso 1: Detecta extrae el texto en formato .srt desde el audio del video. \n",
    "\n",
    "> 🚨Nota: Cada servicio tiene un cliente que debes inicializar antes de hacer cada llamada de API. \n",
    "\n",
    "Este paso lo realizamos empleando la llamda de API [start_transcription_job](https://boto3.amazonaws.com/v1/documentation/api/latest/reference/services/transcribe/client/start_transcription_job.html) de [Boto3 Transcribe client](https://boto3.amazonaws.com/v1/documentation/api/latest/reference/services/transcribe.html)."
   ]
  },
  {
   "attachments": {},
   "cell_type": "markdown",
   "metadata": {},
   "source": [
    "### Amazon transcribe toma el video desde un bucket de [Amazon S3](https://docs.aws.amazon.com/s3/index.html), por lo que debes crearlo primero y luego subir el video. [Sigue los pasos decomo crear un Bucket de S3 aca](https://docs.aws.amazon.com/es_es/AmazonS3/latest/userguide/creating-bucket.html)"
   ]
  },
  {
   "cell_type": "code",
   "execution_count": 15,
   "metadata": {},
   "outputs": [],
   "source": [
    "transcribe_client  = my_session.client('transcribe')\n",
    "\n",
    "def crea_subitulos(jobName,SOURCE_LANG_CODE,s3Path,s3bucket,name_out):\n",
    "\n",
    "    response = transcribe_client.start_transcription_job(\n",
    "                    TranscriptionJobName=jobName,\n",
    "                    LanguageCode= SOURCE_LANG_CODE,\n",
    "                    MediaFormat='mp4',\n",
    "                    Media={\n",
    "                    'MediaFileUri': s3Path\n",
    "                    },\n",
    "                    OutputBucketName = s3bucket,\n",
    "                    OutputKey=name_out, \n",
    "                    Subtitles={\n",
    "                    'Formats': [\n",
    "                        'srt'\n",
    "                    ]}\n",
    "                    )\n",
    "\n",
    "    TranscriptionJobName = response['TranscriptionJob']['TranscriptionJobName']\n",
    "        \n",
    "    print(\"Processing....\")\n",
    "    print(\"TranscriptionJobName : {}\".format(TranscriptionJobName))"
   ]
  },
  {
   "attachments": {},
   "cell_type": "markdown",
   "metadata": {},
   "source": [
    "> Lenguajes adminitos con sus códigos [Supported languages](https://docs.aws.amazon.com/es_es/transcribe/latest/dg/supported-languages.html)."
   ]
  },
  {
   "attachments": {},
   "cell_type": "markdown",
   "metadata": {},
   "source": [
    "### Paso 2: Traduce los subitulos a otro idioma. \n",
    "Antes de iniciar este paso debes esperar que los subitulos esten listos, esto dependera de la duración del video, te recomiendo subir videos con tamaño reducido, te importa es la calidad den audio no de la imagen. \n",
    "\n",
    "Una vez terminada la transcrición procede a su traducción. \n",
    "\n",
    "Este paso lo realizamos empleando la llamda de API [TranslateText](https://boto3.amazonaws.com/v1/documentation/api/latest/reference/services/comprehend/client/detect_dominant_language.html#detect-dominant-language) de [Boto3 Translate client](https://boto3.amazonaws.com/v1/documentation/api/latest/reference/services/comprehend.html). \n",
    "\n",
    "[supported language codes](https://docs.aws.amazon.com/translate/latest/dg/what-is-languages.html) "
   ]
  },
  {
   "cell_type": "code",
   "execution_count": 16,
   "metadata": {},
   "outputs": [],
   "source": [
    "translate_client = my_session.client('translate')\n",
    "\n",
    "def traducir_subitulos(text,sourceLanguage,targetLanguage):\n",
    "    translate = translate_client.translate_text(\n",
    "                Text=text, \n",
    "                SourceLanguageCode=sourceLanguage,\n",
    "                TargetLanguageCode=targetLanguage)\n",
    "                \n",
    "    result = translate['TranslatedText']\n",
    "    return result"
   ]
  },
  {
   "attachments": {},
   "cell_type": "markdown",
   "metadata": {},
   "source": [
    "> Aca el listado de idiomas manejados por translate y sus códigos [Supported languages](https://docs.aws.amazon.com/translate/latest/dg/what-is-languages.html)."
   ]
  },
  {
   "cell_type": "code",
   "execution_count": 17,
   "metadata": {},
   "outputs": [],
   "source": [
    "#Primero necesitamos descargar el archivo para procesarlo.\n",
    "#y lo hacemos con esta funcion.\n",
    "client_s3 = my_session.client('s3')\n",
    "\n",
    "def download_file(bucket, key, filename):\n",
    "    with open(filename, \"wb\") as data:\n",
    "        client_s3.download_fileobj(bucket, key, data)\n",
    "    print(\"Download file from s3://{}{}\".format(bucket,key))\n",
    "    return True"
   ]
  },
  {
   "cell_type": "code",
   "execution_count": 18,
   "metadata": {},
   "outputs": [],
   "source": [
    "#Por ser un archivo .srt se debe procesar por linea, lo cual se hará con la siguiente función. \n",
    "def procesa_traduccion(sourceLanguage,targetLanguage,s3object,s3bucket, filename):\n",
    "    if(filename.endswith(\"srt\")): \n",
    "        srt_file_out = targetLanguage + \"_\" + filename\n",
    "\n",
    "        download_file(s3bucket, s3object, filename)\n",
    "\n",
    "        with open(filename) as f:\n",
    "            str = f.readlines()\n",
    "\n",
    "        #Los subtítulos se repiten cada 4 líneas empezando por la segunda. \n",
    "        #Taking ten en cuenta que la primera línea es 0.\n",
    "\n",
    "        sub=[]\n",
    "        for n in range (2,len(str),4):\n",
    "            sub.append(n)\n",
    "            traslate_out=[]\n",
    "\n",
    "        n=0\n",
    "        for line in str:\n",
    "            if n in sub: #Only the lines that correspond to the subtitle text are translated.\n",
    "                lines_traslate=traducir_subitulos(line,sourceLanguage,targetLanguage)\n",
    "            else:\n",
    "                lines_traslate = line\n",
    "            traslate_out.append(lines_traslate)\n",
    "            n=n+1\n",
    "            \n",
    "        with open(srt_file_out, 'w') as temp_file:\n",
    "            for item in traslate_out:\n",
    "                temp_file.write(item)\n",
    "        \n",
    "            \n",
    "    else:\n",
    "        print(\"No es .srt\")\n",
    "            \n",
    "        print(\"Listo!\")"
   ]
  },
  {
   "attachments": {},
   "cell_type": "markdown",
   "metadata": {},
   "source": [
    "### Paso 3: Creemos subitulos traducidos!"
   ]
  },
  {
   "attachments": {},
   "cell_type": "markdown",
   "metadata": {},
   "source": []
  },
  {
   "cell_type": "code",
   "execution_count": 19,
   "metadata": {},
   "outputs": [
    {
     "name": "stdout",
     "output_type": "stream",
     "text": [
      "Processing....\n",
      "TranscriptionJobName : Demojob_name\n"
     ]
    }
   ],
   "source": [
    "jobName = \"Demojob_name\"\n",
    "SOURCE_LANG_CODE = \"en-US\"\n",
    "s3Path = \"s3://demo-eli-us-east-1/demo_subitulo_video/demo_subtitulos.mp4\" #s3://DOC-EXAMPLE-BUCKET/my-media-file.mp3\n",
    "bucket = \"demo-eli-us-east-1\"\n",
    "name_out = \"subtitulo_listo\"\n",
    "crea_subitulos(jobName,SOURCE_LANG_CODE,s3Path,bucket,name_out)"
   ]
  },
  {
   "cell_type": "code",
   "execution_count": 20,
   "metadata": {},
   "outputs": [
    {
     "data": {
      "text/plain": [
       "{'TranscriptionJob': {'TranscriptionJobName': 'Demojob_name',\n",
       "  'TranscriptionJobStatus': 'IN_PROGRESS',\n",
       "  'LanguageCode': 'en-US',\n",
       "  'MediaFormat': 'mp4',\n",
       "  'Media': {'MediaFileUri': 's3://demo-eli-us-east-1/demo_subitulo_video/demo_subtitulos.mp4'},\n",
       "  'Transcript': {},\n",
       "  'StartTime': datetime.datetime(2023, 8, 24, 12, 53, 34, 687000, tzinfo=tzlocal()),\n",
       "  'CreationTime': datetime.datetime(2023, 8, 24, 12, 53, 34, 653000, tzinfo=tzlocal()),\n",
       "  'Settings': {'ChannelIdentification': False, 'ShowAlternatives': False},\n",
       "  'Subtitles': {'Formats': ['srt'], 'SubtitleFileUris': []}},\n",
       " 'ResponseMetadata': {'RequestId': '5bc15908-b1a7-4b8b-b686-e2f19d6737d6',\n",
       "  'HTTPStatusCode': 200,\n",
       "  'HTTPHeaders': {'x-amzn-requestid': '5bc15908-b1a7-4b8b-b686-e2f19d6737d6',\n",
       "   'content-type': 'application/x-amz-json-1.1',\n",
       "   'content-length': '432',\n",
       "   'date': 'Thu, 24 Aug 2023 16:53:37 GMT'},\n",
       "  'RetryAttempts': 0}}"
      ]
     },
     "execution_count": 20,
     "metadata": {},
     "output_type": "execute_result"
    }
   ],
   "source": [
    "#Para ver el estadod el job de transcribe\n",
    "response = transcribe_client.get_transcription_job(\n",
    "    TranscriptionJobName=jobName\n",
    ")\n",
    "response"
   ]
  },
  {
   "cell_type": "code",
   "execution_count": null,
   "metadata": {},
   "outputs": [],
   "source": [
    "response['TranscriptionJob']['Subtitles']['SubtitleFileUris'][0].split(\"/\")"
   ]
  },
  {
   "cell_type": "code",
   "execution_count": null,
   "metadata": {},
   "outputs": [],
   "source": [
    "s3bucket =response['TranscriptionJob']['Subtitles']['SubtitleFileUris'][0].split(\"/\")[3]\n",
    "s3object = response['TranscriptionJob']['Subtitles']['SubtitleFileUris'][0].split(\"/\")[4]\n",
    "filename = response['TranscriptionJob']['Subtitles']['SubtitleFileUris'][0].split(\"/\")[4]\n",
    "targetLanguage = \"es\" \n",
    "sourceLanguage = \"en\"\n",
    "procesa_traduccion(sourceLanguage,targetLanguage,s3object,s3bucket, filename)"
   ]
  },
  {
   "attachments": {},
   "cell_type": "markdown",
   "metadata": {},
   "source": [
    "## ¡Gracias!\n",
    "\n",
    "Te dejo mis redes: \n",
    "🇻🇪🇨🇱 [Dev.to](https://dev.to/elizabethfuentes12) [Linkedin](https://www.linkedin.com/in/lizfue/) [GitHub](https://github.com/elizabethfuentes12/) [Twitter](https://twitter.com/elizabethfue12) [Instagram](https://www.instagram.com/elifue.tech) [Youtube](https://www.youtube.com/channel/UCr0Gnc-t30m4xyrvsQpNp2Q)\n",
    "[linktr](https://linktr.ee/elizabethfuentesleone)"
   ]
  }
 ],
 "metadata": {
  "kernelspec": {
   "display_name": "Python 3",
   "language": "python",
   "name": "python3"
  },
  "language_info": {
   "codemirror_mode": {
    "name": "ipython",
    "version": 3
   },
   "file_extension": ".py",
   "mimetype": "text/x-python",
   "name": "python",
   "nbconvert_exporter": "python",
   "pygments_lexer": "ipython3",
   "version": "3.9.6"
  },
  "orig_nbformat": 4
 },
 "nbformat": 4,
 "nbformat_minor": 2
}
