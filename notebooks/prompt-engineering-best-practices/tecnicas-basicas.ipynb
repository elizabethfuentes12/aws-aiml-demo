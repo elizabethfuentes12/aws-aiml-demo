{
 "cells": [
  {
   "cell_type": "code",
   "execution_count": null,
   "metadata": {},
   "outputs": [],
   "source": [
    "!pip3 install --upgrade boto3   "
   ]
  },
  {
   "cell_type": "markdown",
   "metadata": {},
   "source": [
    "# Técnicas básicas de prompt"
   ]
  },
  {
   "cell_type": "code",
   "execution_count": null,
   "metadata": {},
   "outputs": [],
   "source": [
    "import boto3\n",
    "import json\n"
   ]
  },
  {
   "cell_type": "code",
   "execution_count": null,
   "metadata": {},
   "outputs": [],
   "source": [
    "bedrock_runtime = boto3.client(\n",
    "    service_name='bedrock-runtime', \n",
    "    region_name='us-east-1'\n",
    ")"
   ]
  },
  {
   "cell_type": "code",
   "execution_count": null,
   "metadata": {},
   "outputs": [],
   "source": [
    "def api_bedrock(prompt):\n",
    "  body = {\"prompt\": f'Human:{prompt}\\n\\nAssistant:',\n",
    "          \"max_tokens_to_sample\":300,\n",
    "          \"temperature\":1,\n",
    "          \"top_k\":250,\n",
    "          \"top_p\":0.999,\n",
    "          \"stop_sequences\":[\"Human:\"]\n",
    "          }\n",
    "  kwargs = {\n",
    "    \"modelId\": \"anthropic.claude-v2\",\n",
    "    \"contentType\": \"application/json\",\n",
    "    \"accept\": \"*/*\",\n",
    "    \"body\": json.dumps(body)}\n",
    "  response = bedrock_runtime.invoke_model(**kwargs)\n",
    "  response_body = json.loads(response.get(\"body\").read())\n",
    "  completetion = response_body.get(\"completion\")\n",
    "  print(completetion)"
   ]
  },
  {
   "cell_type": "markdown",
   "metadata": {},
   "source": [
    "## Zero-shot prompting\n"
   ]
  },
  {
   "cell_type": "code",
   "execution_count": null,
   "metadata": {},
   "outputs": [],
   "source": [
    "publicacion = \"¡No te pierdas la revolución del vehículo eléctrico! AnyCompany está abandonando los potentes coches por vehículos eléctricos, lo que crea una gran oportunidad para los inversores.\""
   ]
  },
  {
   "cell_type": "code",
   "execution_count": null,
   "metadata": {},
   "outputs": [],
   "source": [
    "prompt1= \"Cuénteme el sentimiento de la siguiente publicación en las redes sociales y clasifíquelo como positivo, negativo o neutral: \"+publicacion\n",
    "api_bedrock(prompt1)"
   ]
  },
  {
   "cell_type": "markdown",
   "metadata": {},
   "source": [
    "## Few-shot prompt"
   ]
  },
  {
   "cell_type": "code",
   "execution_count": null,
   "metadata": {},
   "outputs": [],
   "source": [
    "publicacion = \"Manufacturing plant is the latest target in investigation by state officials.\""
   ]
  },
  {
   "cell_type": "code",
   "execution_count": null,
   "metadata": {},
   "outputs": [],
   "source": [
    "prompt1=f\"\"\"Tell me the sentiment of the following headline and categorize it as either positive, negative, or neutral. \n",
    "Here are some examples:\n",
    "Research firm fends off allegations of impropriety over new technology.\n",
    "Answer: Negative\n",
    "Offshore windfarms continue to thrive as vocal minority in opposition dwindles.\n",
    "Answer: Positive\n",
    "{publicacion}\n",
    "Answer:\"\"\"\n",
    "api_bedrock(prompt1)"
   ]
  },
  {
   "cell_type": "markdown",
   "metadata": {},
   "source": [
    "## Chain-of-thought prompting\n"
   ]
  },
  {
   "cell_type": "code",
   "execution_count": null,
   "metadata": {},
   "outputs": [],
   "source": [
    "prompt = \"\"\"¿Qué vehículo requiere un pago inicial mayor según la siguiente información? \n",
    "\n",
    "El costo total del vehículo A es de $40 000 y requiere un pago inicial del 30 por ciento. \n",
    "\n",
    "El costo total del vehículo B es de $50 000 y requiere un pago inicial del 20 por ciento. \n",
    "\n",
    "(Piensa paso a paso)\n",
    "\"\"\""
   ]
  },
  {
   "cell_type": "code",
   "execution_count": null,
   "metadata": {},
   "outputs": [],
   "source": [
    "api_bedrock(prompt)"
   ]
  },
  {
   "cell_type": "markdown",
   "metadata": {},
   "source": [
    "## Chain-of-thought prompt ejemplo: Few-shot"
   ]
  },
  {
   "cell_type": "code",
   "execution_count": null,
   "metadata": {},
   "outputs": [],
   "source": [
    "prompt = \"\"\"En una semana determinada, los espectadores de un canal de televisión son los siguientes: \n",
    "Lunes: 6.500 espectadores \n",
    "Martes: 6.400 espectadores \n",
    "Miércoles: 6.300 espectadores \n",
    "Pregunta: ¿Cuántos espectadores podemos esperar el viernes? \n",
    "Respuesta: Según los números dados y sin más información, hay una disminución diaria de 100 espectadores. \n",
    "Si asumimos que esta tendencia continuará durante los siguientes días, podemos esperar 6.200 espectadores el día siguiente que sería jueves, y por tanto 6.100 espectadores el día siguiente que sería viernes. \n",
    "Pregunta: ¿Cuántos espectadores podemos esperar el sábado? \n",
    "(Piense paso a paso) Respuesta:\n",
    "\"\"\""
   ]
  },
  {
   "cell_type": "code",
   "execution_count": null,
   "metadata": {},
   "outputs": [],
   "source": [
    "api_bedrock(prompt)"
   ]
  },
  {
   "cell_type": "code",
   "execution_count": null,
   "metadata": {},
   "outputs": [],
   "source": []
  }
 ],
 "metadata": {
  "kernelspec": {
   "display_name": "Python 3",
   "language": "python",
   "name": "python3"
  },
  "language_info": {
   "codemirror_mode": {
    "name": "ipython",
    "version": 3
   },
   "file_extension": ".py",
   "mimetype": "text/x-python",
   "name": "python",
   "nbconvert_exporter": "python",
   "pygments_lexer": "ipython3",
   "version": "3.9.6"
  },
  "orig_nbformat": 4
 },
 "nbformat": 4,
 "nbformat_minor": 2
}
