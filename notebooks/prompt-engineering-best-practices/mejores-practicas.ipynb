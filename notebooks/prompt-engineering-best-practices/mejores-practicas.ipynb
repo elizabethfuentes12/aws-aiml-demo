{
 "cells": [
  {
   "cell_type": "code",
   "execution_count": null,
   "metadata": {},
   "outputs": [],
   "source": [
    "!pip3 install --upgrade boto3   "
   ]
  },
  {
   "cell_type": "markdown",
   "metadata": {},
   "source": [
    "# Mejores prácticas para diseñar prompts efectivos"
   ]
  },
  {
   "cell_type": "code",
   "execution_count": null,
   "metadata": {},
   "outputs": [],
   "source": [
    "import boto3\n",
    "import json\n"
   ]
  },
  {
   "cell_type": "code",
   "execution_count": null,
   "metadata": {},
   "outputs": [],
   "source": [
    "bedrock_runtime = boto3.client(\n",
    "    service_name='bedrock-runtime', \n",
    "    region_name='us-east-1'\n",
    ")"
   ]
  },
  {
   "cell_type": "code",
   "execution_count": null,
   "metadata": {},
   "outputs": [],
   "source": [
    "def api_bedrock(prompt):\n",
    "  body = {\"prompt\": f'Human:{prompt}\\n\\nAssistant:',\n",
    "          \"max_tokens_to_sample\":300,\n",
    "          \"temperature\":1,\n",
    "          \"top_k\":250,\n",
    "          \"top_p\":0.999,\n",
    "          \"stop_sequences\":[\"Human:\"]\n",
    "          }\n",
    "  kwargs = {\n",
    "    \"modelId\": \"anthropic.claude-v2\",\n",
    "    \"contentType\": \"application/json\",\n",
    "    \"accept\": \"*/*\",\n",
    "    \"body\": json.dumps(body)}\n",
    "  response = bedrock_runtime.invoke_model(**kwargs)\n",
    "  response_body = json.loads(response.get(\"body\").read())\n",
    "  completetion = response_body.get(\"completion\")\n",
    "  print(completetion)"
   ]
  },
  {
   "cell_type": "markdown",
   "metadata": {},
   "source": [
    "## Ser claro y conciso\n"
   ]
  },
  {
   "cell_type": "code",
   "execution_count": null,
   "metadata": {},
   "outputs": [],
   "source": [
    "prompt1=\"Calcula la suma total de la siguiente secuencia de números: 4, 8, 12, 16.\"\n",
    "api_bedrock(prompt1)"
   ]
  },
  {
   "cell_type": "code",
   "execution_count": null,
   "metadata": {},
   "outputs": [],
   "source": [
    "prompt2=\"¿Cuál es la suma de estos números: 4, 8, 12, 16?\"\n",
    "api_bedrock(prompt2)"
   ]
  },
  {
   "cell_type": "markdown",
   "metadata": {},
   "source": [
    "## Incluya contexto si es necesario\n"
   ]
  },
  {
   "cell_type": "code",
   "execution_count": null,
   "metadata": {},
   "outputs": [],
   "source": [
    "text = \"\"\"Today, AWS announced PartyRock, an Amazon Bedrock Playground. PartyRock is a fun and intuitive hands-on, generative AI app-building playground. In just a few steps, you can create a variety of apps to experiment with generative AI. For example, you could build an app to generate dad jokes on a chosen topic, create the perfect personalized playlist, recommend what to serve based on ingredients in your pantry, analyze and optimize your party budget, or create an AI storyteller to guide your next fantasy role-playing campaign. By building and playing with PartyRock apps, you’ll learn the techniques and capabilities needed to take full advantage of generative AI, including experimenting with various foundation models, building intuition with text-based prompting, and chaining prompts together. PartyRock is powered by Amazon Bedrock, a fully managed service that makes foundation models (FMs) from Amazon and leading AI companies available through an API.PartyRock is built on the belief that all builders should have access to a fun and intuitive tool to get started building with generative AI and be able to share the apps they create to inspire others. You don’t need to know how to write a single line of code to start creating your own apps with PartyRock. Access to PartyRock is also straightforward through its web-based UI, which is separate from the AWS Management Console and does not require an AWS account. Using one-step tools, builders can share apps they’ve created using PartyRock with friends or publish links on their favorite social media using. For a limited time, AWS offers new PartyRock users a free trial without the need to provide a credit card. Everyone can build AI apps with PartyRock.\"\"\""
   ]
  },
  {
   "cell_type": "code",
   "execution_count": null,
   "metadata": {},
   "outputs": [],
   "source": [
    "prompt1=\"Summarize this article: \"+text\n",
    "api_bedrock(prompt1)"
   ]
  },
  {
   "cell_type": "code",
   "execution_count": null,
   "metadata": {},
   "outputs": [],
   "source": [
    "prompt2=\"Provide a summary of this article to be used in a blog post: \"+text\n",
    "api_bedrock(prompt2)"
   ]
  },
  {
   "cell_type": "markdown",
   "metadata": {},
   "source": [
    "## Utilice directivas para el tipo de respuesta deseado\n"
   ]
  },
  {
   "cell_type": "code",
   "execution_count": null,
   "metadata": {},
   "outputs": [],
   "source": [
    "prompt1=\"¿Cuál es la capital de Nueva York? Proporcione la respuesta en una oración completa.\"\n",
    "api_bedrock(prompt1)"
   ]
  },
  {
   "cell_type": "code",
   "execution_count": null,
   "metadata": {},
   "outputs": [],
   "source": [
    "prompt2=\"¿Cuál es la capital de Nueva York?\"\n",
    "api_bedrock(prompt2)"
   ]
  },
  {
   "cell_type": "markdown",
   "metadata": {},
   "source": [
    "## Considere el resultado en el mensaje"
   ]
  },
  {
   "cell_type": "code",
   "execution_count": null,
   "metadata": {},
   "outputs": [],
   "source": [
    "prompt1=\"Calcula el área de un círculo con un radio de 3 pulgadas\"\n",
    "api_bedrock(prompt1)"
   ]
  },
  {
   "cell_type": "code",
   "execution_count": null,
   "metadata": {},
   "outputs": [],
   "source": [
    "prompt2=\"Calcula el área de un círculo con un radio de 3 pulgadas (7,5 cm). Redondea tu respuesta al número entero más cercano.\"\n",
    "api_bedrock(prompt2)"
   ]
  },
  {
   "cell_type": "markdown",
   "metadata": {},
   "source": [
    "## Iniciar mensajes con una pregunta"
   ]
  },
  {
   "cell_type": "code",
   "execution_count": null,
   "metadata": {},
   "outputs": [],
   "source": [
    "evento = \"\"\" En septiembre de 1666, un pequeño incendio comenzó en la panadería del panadero Thomas Farriner en Pudding Lane, en Londres. Sin embargo, debido a las condiciones secas y al viento fuerte, el fuego se extendió rápidamente a través de las casas de madera apiñadas en la ciudad. Dentro de pocas horas, el fuego se había extendido desde Pudding Lane hasta la catedral de San Pablo. Al día siguiente, el fuego había arrasado la mayor parte de la ciudad dentro de las murallas. Durante casi una semana, el fuego ardió sin control. Solo se detuvo cuando el viento cambió de dirección y los esfuerzos para demoler edificios crearon calles de fuego para detener su propagación.\n",
    "Cuando finalmente terminó, el Gran Incendio de Londres había destruido 13,200 casas, 87 iglesias parroquiales, St. Paul's Cathedral y muchos edificios gubernamentales. Se estima que la pérdida de vidas humanas fue de solo unas pocas docenas, pero decenas de miles de londinenses se quedaron sin hogar. Fue uno de los peores desastres en la historia de Inglaterra. El incendio tuvo un impacto duradero en Londres y en Inglaterra. Sirvió para impulsar la reconstrucción de Londres con amplias calles y edificios de piedra en lugar de madera, reduciendo así el riesgo de futuros incendios a gran escala. También llevó a la creación del London Building Acts, uno de los primeros códigos de construcción del mundo.\"\"\""
   ]
  },
  {
   "cell_type": "code",
   "execution_count": null,
   "metadata": {},
   "outputs": [],
   "source": [
    "prompt1= \"¿Por qué ocurrió el evento en los tags <evento></evento>? Explícalo en tres frases. <evento>\"+evento+\"</evento>\"\n",
    "\n",
    "api_bedrock(prompt1)"
   ]
  },
  {
   "cell_type": "code",
   "execution_count": null,
   "metadata": {},
   "outputs": [],
   "source": [
    "prompt2= \"Resume  el evento en los tags <evento></evento>. <evento>\"+evento+\"</evento>\"\n",
    "\n",
    "api_bedrock(prompt2)"
   ]
  },
  {
   "cell_type": "markdown",
   "metadata": {},
   "source": [
    "## Proporcione una respuesta de ejemplo (one shot)"
   ]
  },
  {
   "cell_type": "code",
   "execution_count": null,
   "metadata": {},
   "outputs": [],
   "source": [
    "review_negativo =  \"\"\"Compré el nuevo teléfono X pero ha sido una decepción total. La batería dura apenas unas horas y la cámara toma fotos borrosas. Además se cuelga constantemente. No puedo recomendar este producto.\"\"\""
   ]
  },
  {
   "cell_type": "code",
   "execution_count": null,
   "metadata": {},
   "outputs": [],
   "source": [
    "prompt1= \"Determine el sentimiento de esta publicación en las redes sociales:\"+review_negativo\n",
    "api_bedrock(prompt1)"
   ]
  },
  {
   "cell_type": "code",
   "execution_count": null,
   "metadata": {},
   "outputs": [],
   "source": [
    "prompt2 = f\"\"\"Determine el sentimiento de la siguiente publicación en las redes sociales utilizando estos ejemplos:\n",
    "post: “Muy buen producto, me encanta.” sentimiento: Positivo\n",
    "post: “Odio cuando se agota la batería de mi teléfono.” sentimiento:  Negativo\n",
    "post: \"{review_negativo}\" sentimiento:  \"\"\"\n",
    "api_bedrock(prompt2)"
   ]
  },
  {
   "cell_type": "code",
   "execution_count": null,
   "metadata": {},
   "outputs": [],
   "source": []
  }
 ],
 "metadata": {
  "kernelspec": {
   "display_name": "Python 3",
   "language": "python",
   "name": "python3"
  },
  "language_info": {
   "codemirror_mode": {
    "name": "ipython",
    "version": 3
   },
   "file_extension": ".py",
   "mimetype": "text/x-python",
   "name": "python",
   "nbconvert_exporter": "python",
   "pygments_lexer": "ipython3",
   "version": "3.9.6"
  },
  "orig_nbformat": 4
 },
 "nbformat": 4,
 "nbformat_minor": 2
}
